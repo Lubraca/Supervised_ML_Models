{
 "cells": [
  {
   "cell_type": "code",
   "execution_count": 8,
   "id": "aedc8dfe",
   "metadata": {},
   "outputs": [
    {
     "name": "stdout",
     "output_type": "stream",
     "text": [
      "Building requirements...\n",
      "[    ] Locking packages...\n",
      "Resolving dependencies...\n",
      "[    ] Locking packages...\n",
      "[    ] Locking packages...\n",
      "[==  ] Locking packages...\n",
      "[=== ] Locking packages...\n",
      "[ ===] Locking packages...\n",
      "[  ==] Locking packages...\n",
      "[   =] Locking packages...\n",
      "[   =] Locking packages...\n",
      "[  ==] Locking packages...\n",
      "[ ===] Locking packages...\n",
      "[====] Locking packages...\n",
      "[=== ] Locking packages...\n",
      "[==  ] Locking packages...\n",
      "[=   ] Locking packages...\n",
      "[=   ] Locking packages...\n",
      "[==  ] Locking packages...\n",
      "[=== ] Locking packages...\n",
      "[ ===] Locking packages...\n",
      "[  ==] Locking packages...\n",
      "[   =] Locking packages...\n",
      "[   =] Locking packages...\n",
      "[  ==] Locking packages...\n",
      "Locking Failed!\n",
      "[ ===] Locking packages...\n",
      "[ ===] Locking packages...\n",
      "[ ===] Locking packages...\n",
      "\n"
     ]
    },
    {
     "name": "stderr",
     "output_type": "stream",
     "text": [
      "Courtesy Notice:\n",
      "Pipenv found itself running within a virtual environment,  so it will \n",
      "automatically use that environment, instead of  creating its own for any \n",
      "project. You can set\n",
      "PIPENV_IGNORE_VIRTUALENVS=1 to force pipenv to ignore that environment and \n",
      "create  its own instead.\n",
      "You can set PIPENV_VERBOSITY=-1 to suppress this warning.\n",
      "Pipfile.lock (fedbd2ab7afd84cf16f128af0619749267b62277b4cb6989ef16d4bef6e4eef2)\n",
      "out of date: run `pipenv lock` to update to \n",
      "(2e5202db5fa3324ac0e697ead8805e9590924aede686abba3ba77994bf61a398)...\n",
      "Locking [packages] dependencies...\n",
      "CRITICAL:pipenv.patched.pip._internal.resolution.resolvelib.factory:Ignored the\n",
      "following versions that require a different python version: 2.3.0 \n",
      "Requires-Python >=3.11; 2.3.1 Requires-Python >=3.11; 2.3.2 Requires-Python \n",
      ">=3.11\n",
      "CRITICAL:pipenv.patched.pip._internal.resolution.resolvelib.factory:Could not \n",
      "find a version that satisfies the requirement numpy==2.3.0 (from versions: \n",
      "1.3.0, 1.4.1, 1.5.0, 1.5.1, 1.6.0, 1.6.1, 1.6.2, 1.7.0, 1.7.1, 1.7.2, 1.8.0, \n",
      "1.8.1, 1.8.2, 1.9.0, 1.9.1, 1.9.2, 1.9.3, 1.10.0.post2, 1.10.1, 1.10.2, 1.10.4,\n",
      "1.11.0, 1.11.1, 1.11.2, 1.11.3, 1.12.0, 1.12.1, 1.13.0, 1.13.1, 1.13.3, 1.14.0,\n",
      "1.14.1, 1.14.2, 1.14.3, 1.14.4, 1.14.5, 1.14.6, 1.15.0, 1.15.1, 1.15.2, 1.15.3,\n",
      "1.15.4, 1.16.0, 1.16.1, 1.16.2, 1.16.3, 1.16.4, 1.16.5, 1.16.6, 1.17.0, 1.17.1,\n",
      "1.17.2, 1.17.3, 1.17.4, 1.17.5, 1.18.0, 1.18.1, 1.18.2, 1.18.3, 1.18.4, 1.18.5,\n",
      "1.19.0, 1.19.1, 1.19.2, 1.19.3, 1.19.4, 1.19.5, 1.20.0, 1.20.1, 1.20.2, 1.20.3,\n",
      "1.21.0, 1.21.1, 1.21.2, 1.21.3, 1.21.4, 1.21.5, 1.21.6, 1.22.0, 1.22.1, 1.22.2,\n",
      "1.22.3, 1.22.4, 1.23.0, 1.23.1, 1.23.2, 1.23.3, 1.23.4, 1.23.5, 1.24.0, 1.24.1,\n",
      "1.24.2, 1.24.3, 1.24.4, 1.25.0, 1.25.1, 1.25.2, 1.26.0, 1.26.1, 1.26.2, 1.26.3,\n",
      "1.26.4, 2.0.0, 2.0.1, 2.0.2, 2.1.0, 2.1.1, 2.1.2, 2.1.3, 2.2.0, 2.2.1, 2.2.2, \n",
      "2.2.3, 2.2.4, 2.2.5, 2.2.6)\n",
      "[ResolutionFailure]:   File \n",
      "\"C:\\Users\\lucas\\AppData\\Roaming\\Python\\Python310\\site-packages\\pipenv\\resolver.\n",
      "py\", line 451, in main\n",
      "[ResolutionFailure]:       _main(\n",
      "[ResolutionFailure]:   File \n",
      "\"C:\\Users\\lucas\\AppData\\Roaming\\Python\\Python310\\site-packages\\pipenv\\resolver.\n",
      "py\", line 436, in _main\n",
      "[ResolutionFailure]:       resolve_packages(\n",
      "[ResolutionFailure]:   File \n",
      "\"C:\\Users\\lucas\\AppData\\Roaming\\Python\\Python310\\site-packages\\pipenv\\resolver.\n",
      "py\", line 400, in resolve_packages\n",
      "[ResolutionFailure]:       results, resolver = resolve_deps(\n",
      "[ResolutionFailure]:   File \n",
      "\"C:\\Users\\lucas\\AppData\\Roaming\\Python\\Python310\\site-packages\\pipenv\\utils\\res\n",
      "olver.py\", line 967, in resolve_deps\n",
      "[ResolutionFailure]:       results, hashes, internal_resolver = \n",
      "actually_resolve_deps(\n",
      "[ResolutionFailure]:   File \n",
      "\"C:\\Users\\lucas\\AppData\\Roaming\\Python\\Python310\\site-packages\\pipenv\\utils\\res\n",
      "olver.py\", line 735, in actually_resolve_deps\n",
      "[ResolutionFailure]:       resolver.resolve()\n",
      "[ResolutionFailure]:   File \n",
      "\"C:\\Users\\lucas\\AppData\\Roaming\\Python\\Python310\\site-packages\\pipenv\\utils\\res\n",
      "olver.py\", line 460, in resolve\n",
      "[ResolutionFailure]:       raise ResolutionFailure(message=e)\n",
      "Your dependencies could not be resolved. You likely have a mismatch in your \n",
      "sub-dependencies.\n",
      "You can use $ pipenv run pip install <requirement_name> to bypass this \n",
      "mechanism, then run $ pipenv graph to inspect the versions actually installed \n",
      "in the virtualenv.\n",
      "Hint: try $ pipenv lock --pre if it is a pre-release dependency.\n",
      "ERROR: No matching distribution found for numpy==2.3.0\n",
      "\n",
      "Your dependencies could not be resolved. You likely have a mismatch in your \n",
      "sub-dependencies.\n",
      "You can use $ pipenv run pip install <requirement_name> to bypass this \n",
      "mechanism, then run $ pipenv graph to inspect the versions actually installed \n",
      "in the virtualenv.\n",
      "Hint: try $ pipenv lock --pre if it is a pre-release dependency.\n",
      "ERROR: Failed to lock Pipfile.lock!\n"
     ]
    }
   ],
   "source": [
    "!pipenv install -r ./requirements.txt"
   ]
  },
  {
   "cell_type": "code",
   "execution_count": null,
   "id": "ac087613",
   "metadata": {},
   "outputs": [
    {
     "ename": "ModuleNotFoundError",
     "evalue": "No module named 'kagglehub'",
     "output_type": "error",
     "traceback": [
      "\u001b[1;31m---------------------------------------------------------------------------\u001b[0m",
      "\u001b[1;31mModuleNotFoundError\u001b[0m                       Traceback (most recent call last)",
      "Cell \u001b[1;32mIn[9], line 1\u001b[0m\n\u001b[1;32m----> 1\u001b[0m \u001b[38;5;28;01mimport\u001b[39;00m\u001b[38;5;250m \u001b[39m\u001b[38;5;21;01mkagglehub\u001b[39;00m\n\u001b[0;32m      3\u001b[0m \u001b[38;5;66;03m# Download latest version\u001b[39;00m\n\u001b[0;32m      4\u001b[0m path \u001b[38;5;241m=\u001b[39m kagglehub\u001b[38;5;241m.\u001b[39mdataset_download(\u001b[38;5;124m\"\u001b[39m\u001b[38;5;124mealaxi/paysim1\u001b[39m\u001b[38;5;124m\"\u001b[39m)\n",
      "\u001b[1;31mModuleNotFoundError\u001b[0m: No module named 'kagglehub'"
     ]
    }
   ],
   "source": []
  }
 ],
 "metadata": {
  "kernelspec": {
   "display_name": "Logistic Regression",
   "language": "python",
   "name": "python3"
  },
  "language_info": {
   "codemirror_mode": {
    "name": "ipython",
    "version": 3
   },
   "file_extension": ".py",
   "mimetype": "text/x-python",
   "name": "python",
   "nbconvert_exporter": "python",
   "pygments_lexer": "ipython3",
   "version": "3.10.9"
  }
 },
 "nbformat": 4,
 "nbformat_minor": 5
}
