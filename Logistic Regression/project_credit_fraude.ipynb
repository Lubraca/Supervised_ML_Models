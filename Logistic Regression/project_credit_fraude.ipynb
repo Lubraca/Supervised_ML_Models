{
 "cells": [
  {
   "cell_type": "code",
   "execution_count": null,
   "id": "aedc8dfe",
   "metadata": {},
   "outputs": [
    {
     "ename": "",
     "evalue": "",
     "output_type": "error",
     "traceback": [
      "\u001b[1;31mRunning cells with 'Supervised_Ml_Models-iMVOUvWU (Python 3.11.9)' requires the ipykernel package.\n",
      "\u001b[1;31m<a href='command:jupyter.createPythonEnvAndSelectController'>Create a Python Environment</a> with the required packages.\n",
      "\u001b[1;31mOr install 'ipykernel' using the command: 'c:/Users/lucas/.virtualenvs/Supervised_Ml_Models-iMVOUvWU/Scripts/python.exe -m pip install ipykernel -U --force-reinstall'"
     ]
    }
   ],
   "source": [
    "!pip install r requirements.txt"
   ]
  }
 ],
 "metadata": {
  "kernelspec": {
   "display_name": "Supervised_Ml_Models-iMVOUvWU",
   "language": "python",
   "name": "python3"
  },
  "language_info": {
   "name": "python",
   "version": "3.11.9"
  }
 },
 "nbformat": 4,
 "nbformat_minor": 5
}
